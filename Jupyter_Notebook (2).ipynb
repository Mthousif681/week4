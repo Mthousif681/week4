{
 "cells": [
  {
   "cell_type": "markdown",
   "metadata": {},
   "source": [
    "<center>\n",
    "    <img src=\"https://s3-api.us-geo.objectstorage.softlayer.net/cf-courses-data/CognitiveClass/Logos/organization_logo/organization_logo.png\" width=\"300\" alt=\"cognitiveclass.ai logo\"  />\n",
    "</center>\n"
   ]
  },
  {
   "cell_type": "markdown",
   "metadata": {},
   "source": [
    "#### Add your code below following the instructions given in the course\n"
   ]
  },
  {
   "cell_type": "markdown",
   "metadata": {},
   "source": [
    "# My Jupyter Notebook on IBM Watson Studio"
   ]
  },
  {
   "cell_type": "markdown",
   "metadata": {},
   "source": [
    "Mohammad Thousif\n",
    "\n",
    "computer science engineer"
   ]
  },
  {
   "cell_type": "markdown",
   "metadata": {},
   "source": [
    "i am interested in data science because i love to do work on data visualization,data cleaning,data manipulation etc"
   ]
  },
  {
   "cell_type": "markdown",
   "metadata": {},
   "source": [
    "### Below code is our simple equation to solve"
   ]
  },
  {
   "cell_type": "code",
   "execution_count": 1,
   "metadata": {},
   "outputs": [
    {
     "data": {
      "text/plain": [
       "26"
      ]
     },
     "execution_count": 1,
     "metadata": {},
     "output_type": "execute_result"
    }
   ],
   "source": [
    "2+4*6"
   ]
  },
  {
   "cell_type": "markdown",
   "metadata": {},
   "source": [
    "[I'm an inline-style link](https://www.google.com)\n",
    "\n",
    "[I'm an inline-style link with title](https://www.google.com \"Google's Homepage\")\n",
    "\n",
    "[I'm a reference-style link][Arbitrary case-insensitive reference text]\n",
    "\n",
    "[I'm a relative reference to a repository file](../blob/master/LICENSE)\n",
    "\n",
    "[You can use numbers for reference-style link definitions][1]\n",
    "\n",
    "Or leave it empty and use the [link text itself].\n",
    "\n",
    "URLs and URLs in angle brackets will automatically get turned into links. \n",
    "http://www.example.com or <http://www.example.com> and sometimes \n",
    "example.com (but not on Github, for example).\n",
    "\n",
    "Some text to show that the reference links can follow later.\n",
    "\n",
    "[arbitrary case-insensitive reference text]: https://www.mozilla.org\n",
    "[1]: http://slashdot.org\n",
    "[link text itself]: http://www.reddit.com\n",
    " \n",
    "Here's our logo (hover to see the title text):\n",
    "\n",
    "Inline-style: \n",
    "![alt text](https://github.com/adam-p/markdown-here/raw/master/src/common/images/icon48.png \"Logo Title Text 1\")\n",
    "\n",
    "Reference-style: \n",
    "![alt text][logo]\n",
    "\n",
    "[logo]: https://github.com/adam-p/markdown-here/raw/master/src/common/images/icon48.png \"Logo Title Text 2\"\n",
    "\n",
    "Colons can be used to align columns.\n",
    "\n",
    "| Tables        | Are           | Cool  |\n",
    "| ------------- |:-------------:| -----:|\n",
    "| col 3 is      | right-aligned | $1600 |\n",
    "| col 2 is      | centered      |   $12 |\n",
    "| zebra stripes | are neat      |    $1 |\n",
    "\n",
    "There must be at least 3 dashes separating each header cell.\n",
    "The outer pipes (|) are optional, and you don't need to make the \n",
    "raw Markdown line up prettily. You can also use inline Markdown.\n",
    "\n",
    "Markdown | Less | Pretty\n",
    "--- | --- | ---\n",
    "*Still* | `renders` | **nicely**\n",
    "1 | 2 | 3"
   ]
  },
  {
   "cell_type": "code",
   "execution_count": null,
   "metadata": {},
   "outputs": [],
   "source": []
  }
 ],
 "metadata": {
  "kernelspec": {
   "display_name": "Python",
   "language": "python",
   "name": "conda-env-python-py"
  },
  "language_info": {
   "codemirror_mode": {
    "name": "ipython",
    "version": 3
   },
   "file_extension": ".py",
   "mimetype": "text/x-python",
   "name": "python",
   "nbconvert_exporter": "python",
   "pygments_lexer": "ipython3",
   "version": "3.7.12"
  }
 },
 "nbformat": 4,
 "nbformat_minor": 4
}
